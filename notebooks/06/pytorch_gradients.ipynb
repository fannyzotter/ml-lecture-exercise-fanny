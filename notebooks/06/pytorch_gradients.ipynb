{
 "cells": [
  {
   "cell_type": "markdown",
   "id": "0",
   "metadata": {},
   "source": [
    "<img style=\"float: right;\" src=\"../../assets/htwlogo.svg\">\n",
    "\n",
    "# Gradients with pytorch\n",
    "\n",
    "**Author**: Dive into Deep Learning, adapted by _Erik Rodner_<br>\n",
    "\n",
    "In the following exercise, we will look at automatic differentiation.\n",
    "https://d2l.ai/chapter_preliminaries/autograd.html\n",
    "The following code requires pytorch.\n"
   ]
  },
  {
   "cell_type": "markdown",
   "id": "1",
   "metadata": {},
   "source": [
    "Let us first define a tensor that can store a corresponding gradient."
   ]
  },
  {
   "cell_type": "code",
   "execution_count": null,
   "id": "2",
   "metadata": {},
   "outputs": [],
   "source": [
    "import torch\n",
    "import sys\n",
    "import os\n",
    "%load_ext autoreload\n",
    "%autoreload 2\n",
    "sys.path.append(os.path.join(\"..\", \"..\", \"utils\"))\n",
    "from torchutils import make_dot\n",
    "\n",
    "import numpy as np"
   ]
  },
  {
   "cell_type": "code",
   "execution_count": null,
   "id": "3",
   "metadata": {},
   "outputs": [],
   "source": [
    "x = torch.arange(4.0)\n",
    "x"
   ]
  },
  {
   "cell_type": "code",
   "execution_count": null,
   "id": "4",
   "metadata": {},
   "outputs": [],
   "source": [
    "x.requires_grad_(True)  # Same as `x = torch.arange(4.0, requires_grad=True)`\n",
    "x.grad  # The default value is None"
   ]
  },
  {
   "cell_type": "markdown",
   "id": "5",
   "metadata": {},
   "source": [
    "``x`` is just a single node in the computation graph. So let's define a new variable ``y``\n",
    "which can be computed using ``x``, i.e. we mathematically we could write $y(x) = 2 x^T x = 2 \\sum\\limits_{d=1}^D x_i * x_i = 2 \\sum\\limits_{d=1}^D x_i^2$"
   ]
  },
  {
   "cell_type": "code",
   "execution_count": null,
   "id": "6",
   "metadata": {},
   "outputs": [],
   "source": [
    "y = 2 * torch.dot(x, x) # forward step\n",
    "y"
   ]
  },
  {
   "cell_type": "markdown",
   "id": "7",
   "metadata": {},
   "source": [
    "Computing the gradient $\\nabla_x y = ( \\frac{\\partial y}{\\partial x_1}, \\frac{\\partial y}{\\partial x_2}, \\frac{\\partial y}{\\partial x_3}, \\frac{\\partial y}{\\partial x_4} )$ is easy: \n",
    "1. backward step and then \n",
    "2. accessing ``x.grad``.\n",
    "\n",
    "Please note that this can only be done with ``x`` storing a proper value."
   ]
  },
  {
   "cell_type": "code",
   "execution_count": null,
   "id": "8",
   "metadata": {},
   "outputs": [],
   "source": [
    "y.backward()\n",
    "x.grad"
   ]
  },
  {
   "cell_type": "markdown",
   "id": "9",
   "metadata": {},
   "source": [
    "Lets redefine $y(x)$ as $y(x) = \\sum_i x_i = x_1 + x_2 + x_3 + x_4$ and recompute the gradient: $\\nabla_x y = ( \\frac{\\partial y}{\\partial x_1}, \\frac{\\partial y}{\\partial x_2}, \\frac{\\partial y}{\\partial x_3}, \\frac{\\partial y}{\\partial x_4} )$"
   ]
  },
  {
   "cell_type": "code",
   "execution_count": null,
   "id": "10",
   "metadata": {},
   "outputs": [],
   "source": [
    "x.grad.zero_()\n",
    "y = x.sum() # forward pass\n",
    "y.backward()\n",
    "x.grad"
   ]
  },
  {
   "cell_type": "markdown",
   "id": "11",
   "metadata": {},
   "source": [
    "Now, let us move to an example with 3 tensors:\n",
    "1. ``z`` contains only 1s\n",
    "2. $y = x^T z = \\sum\\limits_i x_i * z_i = x_1*z_1 + x_2 * z_2 + x_3 * z_3 + x_4 * z_4$"
   ]
  },
  {
   "cell_type": "code",
   "execution_count": null,
   "id": "12",
   "metadata": {},
   "outputs": [],
   "source": [
    "z = torch.ones(4, requires_grad=True)\n",
    "y = torch.dot(x, z)"
   ]
  },
  {
   "cell_type": "code",
   "execution_count": null,
   "id": "13",
   "metadata": {},
   "outputs": [],
   "source": [
    "x.grad.zero_()\n",
    "y.backward()"
   ]
  },
  {
   "cell_type": "markdown",
   "id": "14",
   "metadata": {},
   "source": [
    "After the backward operation, ``x.grad`` contains $\\nabla_x y$ and ``z.grad`` contains $\\nabla_z y$"
   ]
  },
  {
   "cell_type": "code",
   "execution_count": null,
   "id": "15",
   "metadata": {},
   "outputs": [],
   "source": [
    "x.grad"
   ]
  },
  {
   "cell_type": "code",
   "execution_count": null,
   "id": "16",
   "metadata": {},
   "outputs": [],
   "source": [
    "z.grad"
   ]
  },
  {
   "cell_type": "markdown",
   "id": "17",
   "metadata": {},
   "source": [
    "We can also visualize the computation graph and see which parts of the graph contain elements to store the gradient."
   ]
  },
  {
   "cell_type": "code",
   "execution_count": null,
   "id": "18",
   "metadata": {},
   "outputs": [],
   "source": [
    "make_dot(y, locals())"
   ]
  },
  {
   "cell_type": "markdown",
   "id": "19",
   "metadata": {},
   "source": [
    "We can also build more complex graphs like this one:\n",
    "1. $z_i = x_i^2 \\enspace \\forall i$\n",
    "2. $y = \\sum\\limits_i x_i * z_i$"
   ]
  },
  {
   "cell_type": "code",
   "execution_count": null,
   "id": "20",
   "metadata": {},
   "outputs": [],
   "source": [
    "z = x**2\n",
    "y = torch.dot(x, z)"
   ]
  },
  {
   "cell_type": "markdown",
   "id": "21",
   "metadata": {},
   "source": [
    "Look how the variable z is now just an intermediate variable."
   ]
  },
  {
   "cell_type": "code",
   "execution_count": null,
   "id": "22",
   "metadata": {},
   "outputs": [],
   "source": [
    "make_dot(y, locals())"
   ]
  },
  {
   "cell_type": "code",
   "execution_count": null,
   "id": "23",
   "metadata": {},
   "outputs": [],
   "source": [
    "x.grad.zero_()\n",
    "z.retain_grad() # this ensures that we can access the gradient, otherwise this would not be possible\n",
    "y.backward()"
   ]
  },
  {
   "cell_type": "code",
   "execution_count": null,
   "id": "24",
   "metadata": {},
   "outputs": [],
   "source": [
    "x.grad"
   ]
  },
  {
   "cell_type": "code",
   "execution_count": null,
   "id": "25",
   "metadata": {},
   "outputs": [],
   "source": []
  }
 ],
 "metadata": {
  "kernelspec": {
   "display_name": "Python 3",
   "language": "python",
   "name": "python3"
  },
  "language_info": {
   "codemirror_mode": {
    "name": "ipython",
    "version": 3
   },
   "file_extension": ".py",
   "mimetype": "text/x-python",
   "name": "python",
   "nbconvert_exporter": "python",
   "pygments_lexer": "ipython3",
   "version": "3.9.20"
  }
 },
 "nbformat": 4,
 "nbformat_minor": 5
}
