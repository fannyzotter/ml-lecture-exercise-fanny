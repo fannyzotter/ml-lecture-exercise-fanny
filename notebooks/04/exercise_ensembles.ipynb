{
 "cells": [
  {
   "cell_type": "markdown",
   "metadata": {},
   "source": [
    "<img style=\"float: right;\" src=\"../../assets/htwlogo.svg\">\n",
    "\n",
    "# Exercise: Using ensembles for classical tabular data\n",
    "\n",
    "Ensembles are a general principle in machine learning and can be fitted to data in very different ways. Let's look at them closer from a practical perspective. We will analyze different ensembles and look into the performance of individual classifiers as well as different techniques to fit ensembles.\n",
    "\n",
    "**Author**: _Erik Rodner_<br>"
   ]
  },
  {
   "cell_type": "code",
   "execution_count": null,
   "metadata": {},
   "outputs": [],
   "source": [
    "# Import the necessary libraries\n",
    "import numpy as np\n",
    "import matplotlib.pyplot as plt\n",
    "from sklearn.ensemble import AdaBoostClassifier, BaggingClassifier\n",
    "from sklearn.tree import DecisionTreeClassifier\n",
    "from sklearn.datasets import load_breast_cancer\n",
    "from sklearn.model_selection import train_test_split\n",
    "from sklearn.metrics import accuracy_score\n"
   ]
  },
  {
   "cell_type": "markdown",
   "metadata": {},
   "source": [
    "In the following we use the breast cancer dataset of ``scikit-learn``. What is this dataset about? What are the features? Which study was performed to acquire the data? "
   ]
  },
  {
   "cell_type": "code",
   "execution_count": null,
   "metadata": {},
   "outputs": [],
   "source": [
    "X, y = load_breast_cancer(return_X_y=True)\n",
    "X_train, X_test, y_train, y_test = train_test_split(X, y, test_size=0.3, random_state=42)"
   ]
  },
  {
   "cell_type": "markdown",
   "metadata": {},
   "source": [
    "## Exercise 1: Fit an ensemble of decision trees with bagging\n",
    "\n",
    "1. Use decision trees as a base classifier (element of the ensemble)!\n",
    "2. Fit an ensemble using bagging!\n",
    "3. What is the performance on the test set?\n",
    "4. Analyze the performance for relevant hyperparameters: maximum depth of the trees, random fraction of the dataset used for bagging, size of the ensemble, etc."
   ]
  },
  {
   "cell_type": "code",
   "execution_count": null,
   "metadata": {},
   "outputs": [],
   "source": [
    "# Your code comes here."
   ]
  },
  {
   "cell_type": "markdown",
   "metadata": {},
   "source": [
    "## Exercise 2: Boosting instead of bagging\n",
    "\n",
    "Whereas bagging, just uses random samples to increase the diversity of the ensemble, boosting\n",
    "sequentially fits the individual base classifiers, just that the next classifier always concentrates\n",
    "on the previously wrong classified examples.\n",
    "\n",
    "1. Use decision stump (tree with depth 1) as a base classifier!\n",
    "2. Fit an ensemble using Adaboost (learning rate 0.1)!\n",
    "3. What is the performance on the test set?\n",
    "4. Analyze the performance for relevant hyperparameters: learning rate, size of ensemble etc."
   ]
  },
  {
   "cell_type": "code",
   "execution_count": null,
   "metadata": {},
   "outputs": [],
   "source": [
    "# Your code comes here."
   ]
  },
  {
   "cell_type": "markdown",
   "metadata": {},
   "source": [
    "## Exercise 3: In-depth analysis of ensembles\n",
    "\n",
    "Write a function that takes an trained ensemble and a labeled test set (``X_test``, ``y_test``) and \n",
    "performs the following analysis:\n",
    "1. A bar plot showing the individual performance of each element in the ensembles (``estimators_``)\n",
    "2. The overall test performance on the test set\n",
    "3. How do the two ensembles compare with each other?"
   ]
  },
  {
   "cell_type": "code",
   "execution_count": null,
   "metadata": {},
   "outputs": [],
   "source": [
    "# Your code comes here."
   ]
  }
 ],
 "metadata": {
  "kernelspec": {
   "display_name": "ml-exercise-pip",
   "language": "python",
   "name": "python3"
  },
  "language_info": {
   "codemirror_mode": {
    "name": "ipython",
    "version": 3
   },
   "file_extension": ".py",
   "mimetype": "text/x-python",
   "name": "python",
   "nbconvert_exporter": "python",
   "pygments_lexer": "ipython3",
   "version": "3.9.20"
  }
 },
 "nbformat": 4,
 "nbformat_minor": 2
}
