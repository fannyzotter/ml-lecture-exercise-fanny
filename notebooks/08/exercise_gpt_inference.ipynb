{
 "cells": [
  {
   "cell_type": "markdown",
   "metadata": {},
   "source": [
    "<img style=\"float: right;\" src=\"../../assets/htwlogo.svg\">\n",
    "\n",
    "# Exercise: Sentinment analysis with LLMs\n",
    "\n",
    "**Author**: _Erik Rodner_ <br>\n",
    "\n",
    "In this exercise, we will use LLMs for text categorization and in particular for sentiment analysis, i.e. trying to classify text \n",
    "into certain emotional categories: positive, negative, neutral.\n",
    "\n",
    "**What kind of applications can be built with this technology? (good or bad)?**\n"
   ]
  },
  {
   "cell_type": "code",
   "execution_count": null,
   "metadata": {},
   "outputs": [],
   "source": [
    "import openai\n",
    "import json\n",
    "import os\n",
    "import sys"
   ]
  },
  {
   "cell_type": "code",
   "execution_count": null,
   "metadata": {},
   "outputs": [],
   "source": [
    "if not os.path.isfile(\"openai.json\"):\n",
    "    raise Exception(f\"Place a JSON file openai.json in the current directory {os.path.curdir}\")"
   ]
  },
  {
   "cell_type": "code",
   "execution_count": null,
   "metadata": {},
   "outputs": [],
   "source": [
    "with open(\"openai.json\", 'r') as file:\n",
    "    config = json.load(file)\n",
    "\n",
    "api_key = config.get('openai_api_key')\n",
    "if not api_key:\n",
    "    raise ValueError(\"API key not found in the configuration file.\")\n",
    "        \n",
    "# Set the API key for OpenAI\n",
    "client = openai.OpenAI(\n",
    "    api_key=api_key,\n",
    ")\n",
    "        \n",
    "def prompt_gpt(system_prompt, \n",
    "               user_prompt,\n",
    "               temperature=1.0):\n",
    "    response = client.chat.completions.create(\n",
    "        model=\"gpt-3.5-turbo\",\n",
    "        messages=[\n",
    "            {\"role\": \"system\", \"content\": system_prompt},\n",
    "            {\"role\": \"user\", \"content\": user_prompt}\n",
    "        ],\n",
    "        temperature=temperature)\n",
    "    pure_text = response.choices[0].message.content.strip()\n",
    "    return pure_text\n",
    "        "
   ]
  }
 ],
 "metadata": {
  "kernelspec": {
   "display_name": "ml-exercise-pip",
   "language": "python",
   "name": "python3"
  },
  "language_info": {
   "codemirror_mode": {
    "name": "ipython",
    "version": 3
   },
   "file_extension": ".py",
   "mimetype": "text/x-python",
   "name": "python",
   "nbconvert_exporter": "python",
   "pygments_lexer": "ipython3",
   "version": "3.9.20"
  }
 },
 "nbformat": 4,
 "nbformat_minor": 2
}
